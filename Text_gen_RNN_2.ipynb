{
  "nbformat": 4,
  "nbformat_minor": 0,
  "metadata": {
    "colab": {
      "name": "Text_gen_RNN_2.ipynb",
      "provenance": [],
      "authorship_tag": "ABX9TyP0loRbONSHiZtTk7z9lX67",
      "include_colab_link": true
    },
    "kernelspec": {
      "name": "python3",
      "display_name": "Python 3"
    },
    "accelerator": "GPU"
  },
  "cells": [
    {
      "cell_type": "markdown",
      "metadata": {
        "id": "view-in-github",
        "colab_type": "text"
      },
      "source": [
        "<a href=\"https://colab.research.google.com/github/marcelAnd02/MachineLearning/blob/master/Text_gen_RNN_2.ipynb\" target=\"_parent\"><img src=\"https://colab.research.google.com/assets/colab-badge.svg\" alt=\"Open In Colab\"/></a>"
      ]
    },
    {
      "cell_type": "code",
      "metadata": {
        "id": "GMplozGUCRGt",
        "colab_type": "code",
        "colab": {}
      },
      "source": [
        "import numpy as np\n",
        "import pandas as pd\n",
        "import random\n",
        "from google.colab import drive"
      ],
      "execution_count": 0,
      "outputs": []
    },
    {
      "cell_type": "code",
      "metadata": {
        "id": "z0XjlxESCeWI",
        "colab_type": "code",
        "outputId": "92486b10-542b-4191-8000-ab60b443faf8",
        "colab": {
          "base_uri": "https://localhost:8080/",
          "height": 121
        }
      },
      "source": [
        "drive.mount('/content/drive')"
      ],
      "execution_count": 0,
      "outputs": [
        {
          "output_type": "stream",
          "text": [
            "Go to this URL in a browser: https://accounts.google.com/o/oauth2/auth?client_id=947318989803-6bn6qk8qdgf4n4g3pfee6491hc0brc4i.apps.googleusercontent.com&redirect_uri=urn%3aietf%3awg%3aoauth%3a2.0%3aoob&response_type=code&scope=email%20https%3a%2f%2fwww.googleapis.com%2fauth%2fdocs.test%20https%3a%2f%2fwww.googleapis.com%2fauth%2fdrive%20https%3a%2f%2fwww.googleapis.com%2fauth%2fdrive.photos.readonly%20https%3a%2f%2fwww.googleapis.com%2fauth%2fpeopleapi.readonly\n",
            "\n",
            "Enter your authorization code:\n",
            "··········\n",
            "Mounted at /content/drive\n"
          ],
          "name": "stdout"
        }
      ]
    },
    {
      "cell_type": "code",
      "metadata": {
        "id": "yfwQgrYwCmhj",
        "colab_type": "code",
        "colab": {}
      },
      "source": [
        "raw_data = pd.read_csv('/content/drive/My Drive/Colab_Notebooks/NLP_Project/PoetryFoundationData.csv')\n",
        "dataset = raw_data.Poem.str.lower().values.tolist()"
      ],
      "execution_count": 0,
      "outputs": []
    },
    {
      "cell_type": "code",
      "metadata": {
        "id": "q0OuhYmmCu-q",
        "colab_type": "code",
        "colab": {}
      },
      "source": [
        "dataset_cln = []\n",
        "kpt = {\".\", \"'\", \",\", \" \"} #characters to be kept in the dataset\n",
        "def clean_data():\n",
        "  for curr_string in dataset:\n",
        "    new_string = \"\"\n",
        "    for ind, cchar in enumerate(curr_string):\n",
        "      nw_ch = \"\"\n",
        "      if (ord(cchar) >= 97 and ord(cchar) <= 122) or (cchar in kpt):\n",
        "        nw_ch = cchar\n",
        "      #if (cchar == \"\\n\" and ind != 2 and ind != len(curr_string) - 1):\n",
        "        #nw_ch = \"\\n\"\n",
        "      if cchar == \"\\n\":\n",
        "        nw_ch = \" \"\n",
        "      if (nw_ch == \" \" and (len(new_string) == 0 or (len(new_string) > 0 and new_string[-1] == \" \"))):\n",
        "        nw_ch = \"\"\n",
        "      new_string += nw_ch\n",
        "    if len(new_string) > 130:\n",
        "      dataset_cln.append(new_string)"
      ],
      "execution_count": 0,
      "outputs": []
    },
    {
      "cell_type": "code",
      "metadata": {
        "id": "UEHZydgeSUqv",
        "colab_type": "code",
        "colab": {}
      },
      "source": [
        "clean_data()"
      ],
      "execution_count": 0,
      "outputs": []
    },
    {
      "cell_type": "code",
      "metadata": {
        "id": "XbLenaTPVEbB",
        "colab_type": "code",
        "colab": {}
      },
      "source": [
        "#print(dataset_cln[258])"
      ],
      "execution_count": 0,
      "outputs": []
    },
    {
      "cell_type": "code",
      "metadata": {
        "id": "uvWVXmKFSZNg",
        "colab_type": "code",
        "colab": {}
      },
      "source": [
        "hlp_set = set()\n",
        "for r in dataset_cln:\n",
        "  for char in r:\n",
        "    hlp_set.add(char)\n",
        "chrs = list(hlp_set)\n",
        "chrs.sort()"
      ],
      "execution_count": 0,
      "outputs": []
    },
    {
      "cell_type": "code",
      "metadata": {
        "id": "jYZw1FaHVWrU",
        "colab_type": "code",
        "colab": {}
      },
      "source": [
        "chrs_num = dict((ch, it) for it, ch in enumerate(chrs))\n",
        "num_chrs = dict((it, ch) for it, ch in enumerate(chrs))"
      ],
      "execution_count": 0,
      "outputs": []
    },
    {
      "cell_type": "code",
      "metadata": {
        "id": "pyhyFBEQVfks",
        "colab_type": "code",
        "colab": {}
      },
      "source": [
        "chain_len = 120\n",
        "chr_sqnces = []\n",
        "nxt_chr = []\n",
        "def form_inputdata():\n",
        "  for curr_string in dataset_cln:\n",
        "    for beg in range(0, len(curr_string) - chain_len, int(chain_len / 6)):\n",
        "      curr_list = []\n",
        "      for it in range(beg, beg + chain_len):\n",
        "        curr_list.append(chrs_num[curr_string[it]])\n",
        "      chr_sqnces.append(curr_list)\n",
        "      nxt_chr.append(chrs_num[curr_string[beg + chain_len]])"
      ],
      "execution_count": 0,
      "outputs": []
    },
    {
      "cell_type": "code",
      "metadata": {
        "id": "ZdXiV-6MWp8e",
        "colab_type": "code",
        "colab": {}
      },
      "source": [
        "form_inputdata()\n",
        "X = np.zeros((len(chr_sqnces), chain_len, len(chrs)), dtype = np.bool)\n",
        "Y = np.zeros((len(chr_sqnces), len(chrs)), dtype = np.bool)\n",
        "for tre_ind, tre in enumerate(chr_sqnces):\n",
        "  for ch_ind, ch in enumerate(tre):\n",
        "    X[tre_ind][ch_ind][ch] = 1\n",
        "    Y[tre_ind][nxt_chr[tre_ind]] = 1"
      ],
      "execution_count": 0,
      "outputs": []
    },
    {
      "cell_type": "markdown",
      "metadata": {
        "id": "1zbaW1FzZ0V5",
        "colab_type": "text"
      },
      "source": [
        "# Model"
      ]
    },
    {
      "cell_type": "code",
      "metadata": {
        "id": "IeKGiPXJZ4ko",
        "colab_type": "code",
        "colab": {}
      },
      "source": [
        "from keras.models import Sequential\n",
        "from keras.layers import Dense, Activation, LSTM\n",
        "from keras.optimizers import adam\n",
        "from keras.callbacks import ModelCheckpoint"
      ],
      "execution_count": 0,
      "outputs": []
    },
    {
      "cell_type": "code",
      "metadata": {
        "id": "2VPP3nwJa70c",
        "colab_type": "code",
        "colab": {}
      },
      "source": [
        "rnn_model = Sequential(\n",
        "    [\n",
        "      LSTM(128, input_shape = (chain_len, len(chrs))),\n",
        "      Dense(len(chrs), activation = \"relu\"),\n",
        "      Dense(len(chrs), activation = \"relu\"),\n",
        "      Dense(len(chrs)),\n",
        "      Activation(\"softmax\"),\n",
        "    ]\n",
        ")\n",
        "optimizer = adam(learning_rate = 0.001)\n",
        "rnn_model.compile(loss = \"categorical_crossentropy\", optimizer = optimizer)"
      ],
      "execution_count": 0,
      "outputs": []
    },
    {
      "cell_type": "code",
      "metadata": {
        "id": "CjfGP5uefT0u",
        "colab_type": "code",
        "outputId": "e0d94971-b945-4e23-b66b-3cbf4f7b7f33",
        "colab": {
          "base_uri": "https://localhost:8080/",
          "height": 319
        }
      },
      "source": [
        "rnn_model.summary()"
      ],
      "execution_count": 0,
      "outputs": [
        {
          "output_type": "stream",
          "text": [
            "Model: \"sequential_2\"\n",
            "_________________________________________________________________\n",
            "Layer (type)                 Output Shape              Param #   \n",
            "=================================================================\n",
            "lstm_2 (LSTM)                (None, 128)               81408     \n",
            "_________________________________________________________________\n",
            "dense_4 (Dense)              (None, 30)                3870      \n",
            "_________________________________________________________________\n",
            "dense_5 (Dense)              (None, 30)                930       \n",
            "_________________________________________________________________\n",
            "dense_6 (Dense)              (None, 30)                930       \n",
            "_________________________________________________________________\n",
            "activation_2 (Activation)    (None, 30)                0         \n",
            "=================================================================\n",
            "Total params: 87,138\n",
            "Trainable params: 87,138\n",
            "Non-trainable params: 0\n",
            "_________________________________________________________________\n"
          ],
          "name": "stdout"
        }
      ]
    },
    {
      "cell_type": "code",
      "metadata": {
        "id": "PN5jp1zriMD7",
        "colab_type": "code",
        "colab": {}
      },
      "source": [
        "checkpoint_path = \"/content/drive/My Drive/Colab_Notebooks/NLP_Project/model2\"\n",
        "model_checkpoint_callback = ModelCheckpoint(\n",
        "    filepath = checkpoint_path,\n",
        "    save_weights_only = True,\n",
        "    save_best_only = True\n",
        ")"
      ],
      "execution_count": 0,
      "outputs": []
    },
    {
      "cell_type": "code",
      "metadata": {
        "id": "QpBNW3Zme9oI",
        "colab_type": "code",
        "outputId": "1c748ae3-65c9-4bbb-a425-783db29acb62",
        "colab": {
          "base_uri": "https://localhost:8080/",
          "height": 403
        }
      },
      "source": [
        "rnn_model.fit(X, Y, batch_size = 128, epochs = 10, callbacks = [model_checkpoint_callback])"
      ],
      "execution_count": 0,
      "outputs": [
        {
          "output_type": "stream",
          "text": [
            "Epoch 1/10\n",
            "869426/869426 [==============================] - 2063s 2ms/step - loss: 2.1259\n",
            "Epoch 2/10\n"
          ],
          "name": "stdout"
        },
        {
          "output_type": "stream",
          "text": [
            "/usr/local/lib/python3.6/dist-packages/keras/callbacks/callbacks.py:707: RuntimeWarning: Can save best model only with val_loss available, skipping.\n",
            "  'skipping.' % (self.monitor), RuntimeWarning)\n"
          ],
          "name": "stderr"
        },
        {
          "output_type": "stream",
          "text": [
            "869426/869426 [==============================] - 2023s 2ms/step - loss: 1.8660\n",
            "Epoch 3/10\n",
            "869426/869426 [==============================] - 2028s 2ms/step - loss: 1.7786\n",
            "Epoch 4/10\n",
            "869426/869426 [==============================] - 2006s 2ms/step - loss: 1.7241\n",
            "Epoch 5/10\n",
            "869426/869426 [==============================] - 1987s 2ms/step - loss: 1.6874\n",
            "Epoch 6/10\n",
            "869426/869426 [==============================] - 1997s 2ms/step - loss: 1.6602\n",
            "Epoch 7/10\n",
            "869426/869426 [==============================] - 2005s 2ms/step - loss: 1.6401\n",
            "Epoch 8/10\n",
            "869426/869426 [==============================] - 2047s 2ms/step - loss: 1.6230\n",
            "Epoch 9/10\n",
            "869426/869426 [==============================] - 2038s 2ms/step - loss: 1.6089\n",
            "Epoch 10/10\n",
            "869426/869426 [==============================] - 2037s 2ms/step - loss: 1.5970\n"
          ],
          "name": "stdout"
        },
        {
          "output_type": "execute_result",
          "data": {
            "text/plain": [
              "<keras.callbacks.callbacks.History at 0x7f4717091cc0>"
            ]
          },
          "metadata": {
            "tags": []
          },
          "execution_count": 59
        }
      ]
    },
    {
      "cell_type": "code",
      "metadata": {
        "id": "mL9UhqZHiaa0",
        "colab_type": "code",
        "colab": {}
      },
      "source": [
        "rnn_model.save_weights(\"/content/drive/My Drive/Colab_Notebooks/NLP_Project/model2\")"
      ],
      "execution_count": 0,
      "outputs": []
    },
    {
      "cell_type": "code",
      "metadata": {
        "id": "0hRpkxQIgq3z",
        "colab_type": "code",
        "colab": {}
      },
      "source": [
        "def choose_char(preds, temp = 1.0):\n",
        "  preds = np.asanyarray(preds).astype(\"float64\")\n",
        "  preds = np.log(preds) / temp\n",
        "  preds_exp = np.exp(preds)\n",
        "  preds = preds_exp / np.sum(preds_exp)\n",
        "  probs = np.random.multinomial(1, preds, 1)\n",
        "  return np.argmax(probs)"
      ],
      "execution_count": 0,
      "outputs": []
    },
    {
      "cell_type": "code",
      "metadata": {
        "id": "b18LwLhtgtvs",
        "colab_type": "code",
        "colab": {}
      },
      "source": [
        "def generate_txt(lng, divs):\n",
        "  ind1 = random.randint(0, len(dataset_cln))\n",
        "  ind2 = random.randint(0, len(dataset_cln[ind1]) - chain_len - 10)\n",
        "  while ind2 < len(dataset_cln[ind1]) and dataset_cln[ind1][ind2] != ' ':\n",
        "    ind2 += 1\n",
        "  ind2 += 1\n",
        "  prevs_chain = dataset_cln[ind1][ind2: ind2 + chain_len]\n",
        "  gen_text = prevs_chain\n",
        "  for it in range(0, lng):\n",
        "    X_gen = np.zeros((1, chain_len, len(chrs)))\n",
        "    for i, ch in enumerate(prevs_chain):\n",
        "      X_gen[0][i][chrs_num[ch]] = 1.\n",
        "    prediction = rnn_model.predict(X_gen, verbose = 0)[0]\n",
        "    predicted_ind = choose_char(prediction, divs)\n",
        "    predicted_char = num_chrs[predicted_ind]\n",
        "    gen_text += predicted_char\n",
        "    prevs_chain = prevs_chain[1:] + predicted_char\n",
        "  return gen_text"
      ],
      "execution_count": 0,
      "outputs": []
    },
    {
      "cell_type": "code",
      "metadata": {
        "id": "y5dDIdyVsFPi",
        "colab_type": "code",
        "colab": {}
      },
      "source": [
        "print(generate_txt(400, 0.7))"
      ],
      "execution_count": 0,
      "outputs": []
    }
  ]
}