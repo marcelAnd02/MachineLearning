{
  "nbformat": 4,
  "nbformat_minor": 0,
  "metadata": {
    "colab": {
      "name": "Text_gen_GAN.ipynb",
      "provenance": [],
      "collapsed_sections": [],
      "authorship_tag": "ABX9TyM+hlR5MN3D+8Tpl8jb3ye6",
      "include_colab_link": true
    },
    "kernelspec": {
      "name": "python3",
      "display_name": "Python 3"
    },
    "accelerator": "GPU"
  },
  "cells": [
    {
      "cell_type": "markdown",
      "metadata": {
        "id": "view-in-github",
        "colab_type": "text"
      },
      "source": [
        "<a href=\"https://colab.research.google.com/github/marcelAnd02/MachineLearning/blob/master/Text_gen_GAN.ipynb\" target=\"_parent\"><img src=\"https://colab.research.google.com/assets/colab-badge.svg\" alt=\"Open In Colab\"/></a>"
      ]
    },
    {
      "cell_type": "code",
      "metadata": {
        "id": "T1bMKY1XkPya",
        "colab_type": "code",
        "colab": {}
      },
      "source": [
        "import numpy as np\n",
        "import pandas as pd\n",
        "import tensorflow as tf\n",
        "from tensorflow import keras\n",
        "import re\n",
        "import random\n",
        "from google.colab import drive"
      ],
      "execution_count": null,
      "outputs": []
    },
    {
      "cell_type": "code",
      "metadata": {
        "id": "l_ojVtWalA9C",
        "colab_type": "code",
        "colab": {
          "base_uri": "https://localhost:8080/",
          "height": 121
        },
        "outputId": "85513039-6b98-4a2c-e622-48314efa161b"
      },
      "source": [
        "drive.mount('/content/drive')"
      ],
      "execution_count": null,
      "outputs": [
        {
          "output_type": "stream",
          "text": [
            "Go to this URL in a browser: https://accounts.google.com/o/oauth2/auth?client_id=947318989803-6bn6qk8qdgf4n4g3pfee6491hc0brc4i.apps.googleusercontent.com&redirect_uri=urn%3aietf%3awg%3aoauth%3a2.0%3aoob&response_type=code&scope=email%20https%3a%2f%2fwww.googleapis.com%2fauth%2fdocs.test%20https%3a%2f%2fwww.googleapis.com%2fauth%2fdrive%20https%3a%2f%2fwww.googleapis.com%2fauth%2fdrive.photos.readonly%20https%3a%2f%2fwww.googleapis.com%2fauth%2fpeopleapi.readonly\n",
            "\n",
            "Enter your authorization code:\n",
            "··········\n",
            "Mounted at /content/drive\n"
          ],
          "name": "stdout"
        }
      ]
    },
    {
      "cell_type": "code",
      "metadata": {
        "id": "S3w4CqQdlNdZ",
        "colab_type": "code",
        "colab": {}
      },
      "source": [
        "raw_data = pd.read_csv('/content/drive/My Drive/Colab_Notebooks/NLP_Project/PoetryFoundationData.csv')\n",
        "dataset = raw_data.Poem.str.lower().values.tolist()"
      ],
      "execution_count": null,
      "outputs": []
    },
    {
      "cell_type": "code",
      "metadata": {
        "id": "FyRjLfAxlWYj",
        "colab_type": "code",
        "colab": {}
      },
      "source": [
        "#print(dataset[35])"
      ],
      "execution_count": null,
      "outputs": []
    },
    {
      "cell_type": "code",
      "metadata": {
        "id": "l2glN7WepqqL",
        "colab_type": "code",
        "colab": {}
      },
      "source": [
        "dataset = list(map(lambda x: re.findall(f\"[\\w]+|[.,'?!{chr(8217)}]\", x), dataset))"
      ],
      "execution_count": null,
      "outputs": []
    },
    {
      "cell_type": "code",
      "metadata": {
        "id": "s_wC-4NNmg3X",
        "colab_type": "code",
        "colab": {}
      },
      "source": [
        "num_unique = 2000 #max number of unique words in model's vocab\n",
        "tokenizer = tf.keras.preprocessing.text.Tokenizer(filters = \"\")\n",
        "tokenizer.fit_on_texts(dataset)\n",
        "dataset_tokenized = tokenizer.texts_to_sequences(dataset)"
      ],
      "execution_count": null,
      "outputs": []
    },
    {
      "cell_type": "code",
      "metadata": {
        "id": "05eDrCSQpW9f",
        "colab_type": "code",
        "colab": {}
      },
      "source": [
        "chain_len = 6\n",
        "X = []\n",
        "def filter_dataset():\n",
        "  for ind, ex in enumerate(dataset_tokenized):\n",
        "    for beg in range(0, len(ex) - chain_len):\n",
        "      if np.max(ex[beg : beg + chain_len]) <= num_unique:\n",
        "        X.append(dataset[ind][beg : beg + chain_len])"
      ],
      "execution_count": null,
      "outputs": []
    },
    {
      "cell_type": "code",
      "metadata": {
        "id": "A36I8hVT2Pok",
        "colab_type": "code",
        "colab": {}
      },
      "source": [
        "filter_dataset()"
      ],
      "execution_count": null,
      "outputs": []
    },
    {
      "cell_type": "code",
      "metadata": {
        "id": "p4JQJWXamyHp",
        "colab_type": "code",
        "colab": {
          "base_uri": "https://localhost:8080/",
          "height": 34
        },
        "outputId": "69365a34-3341-4864-e456-cc713b01cfd6"
      },
      "source": [
        "len(X)"
      ],
      "execution_count": null,
      "outputs": [
        {
          "output_type": "execute_result",
          "data": {
            "text/plain": [
              "1305661"
            ]
          },
          "metadata": {
            "tags": []
          },
          "execution_count": 9
        }
      ]
    },
    {
      "cell_type": "code",
      "metadata": {
        "id": "xt1t-pdCqCmh",
        "colab_type": "code",
        "colab": {}
      },
      "source": [
        "input_lng = 100000\n",
        "#random.shuffle(X)\n",
        "X = X[0 + 10000 : input_lng + 10000]\n",
        "tokenizer = tf.keras.preprocessing.text.Tokenizer(filters = \"\")\n",
        "tokenizer.fit_on_texts(X)\n",
        "X = tokenizer.texts_to_sequences(X)"
      ],
      "execution_count": null,
      "outputs": []
    },
    {
      "cell_type": "code",
      "metadata": {
        "id": "ayZftDYzskdt",
        "colab_type": "code",
        "colab": {}
      },
      "source": [
        "X = np.asarray(X)\n",
        "X = keras.utils.to_categorical(X)"
      ],
      "execution_count": null,
      "outputs": []
    },
    {
      "cell_type": "code",
      "metadata": {
        "id": "jKJCrYSSsoKB",
        "colab_type": "code",
        "colab": {
          "base_uri": "https://localhost:8080/",
          "height": 34
        },
        "outputId": "57aee4e0-3e0a-49d4-caf5-2ceb918921f3"
      },
      "source": [
        "print(X.shape)\n",
        "num_unique = X.shape[2]"
      ],
      "execution_count": null,
      "outputs": [
        {
          "output_type": "stream",
          "text": [
            "(100000, 6, 1999)\n"
          ],
          "name": "stdout"
        }
      ]
    },
    {
      "cell_type": "code",
      "metadata": {
        "id": "XgJTcWPIkrbn",
        "colab_type": "code",
        "colab": {}
      },
      "source": [
        "#tokenizer.sequences_to_texts([[127]])[0]"
      ],
      "execution_count": null,
      "outputs": []
    },
    {
      "cell_type": "markdown",
      "metadata": {
        "id": "YKVfIZkZPsjl",
        "colab_type": "text"
      },
      "source": [
        "## AutoEncoder"
      ]
    },
    {
      "cell_type": "code",
      "metadata": {
        "id": "Y3CURSLB3GJb",
        "colab_type": "code",
        "colab": {}
      },
      "source": [
        "compact_size = 131072"
      ],
      "execution_count": null,
      "outputs": []
    },
    {
      "cell_type": "code",
      "metadata": {
        "id": "Jaxq8r45Pvsd",
        "colab_type": "code",
        "colab": {}
      },
      "source": [
        "encoder = keras.models.Sequential(\n",
        "    [\n",
        "     keras.layers.LSTM(128, input_shape = (chain_len, num_unique), return_sequences = True),\n",
        "     keras.layers.LSTM(128, return_sequences = True),\n",
        "     keras.layers.LSTM(128, return_sequences = False),\n",
        "     keras.layers.Dense(256, activation = \"selu\"),\n",
        "     keras.layers.Dense(256, activation = \"selu\"),\n",
        "     keras.layers.Dense(256, activation = \"selu\"),\n",
        "     keras.layers.Dense(compact_size, activation = \"selu\"),\n",
        "    ]\n",
        ")\n",
        "decoder = keras.models.Sequential(\n",
        "    [\n",
        "     keras.layers.Dense(512, activation = \"selu\", input_shape = [compact_size]),\n",
        "     keras.layers.Dense(256, activation = \"selu\"),\n",
        "     keras.layers.Dense(256, activation = \"selu\"),\n",
        "     keras.layers.Dense(256, activation = \"selu\"),\n",
        "     keras.layers.RepeatVector(chain_len),\n",
        "     keras.layers.LSTM(256, return_sequences = True),\n",
        "     keras.layers.LSTM(256, return_sequences = True),\n",
        "     keras.layers.LSTM(256, return_sequences = True),\n",
        "     keras.layers.TimeDistributed(keras.layers.Dense(num_unique)),\n",
        "    ]\n",
        ")\n",
        "AutoEncoder = keras.models.Sequential([encoder, decoder])\n",
        "optimizer = keras.optimizers.Adam(learning_rate = 0.0009)\n",
        "AutoEncoder.compile(optimizer = optimizer, loss = \"mse\")"
      ],
      "execution_count": null,
      "outputs": []
    },
    {
      "cell_type": "code",
      "metadata": {
        "id": "fjCg5DAFYpZZ",
        "colab_type": "code",
        "colab": {
          "base_uri": "https://localhost:8080/",
          "height": 218
        },
        "outputId": "6de13880-501f-4b67-e643-f71cc7b8917b"
      },
      "source": [
        "AutoEncoder.summary()"
      ],
      "execution_count": null,
      "outputs": [
        {
          "output_type": "stream",
          "text": [
            "Model: \"sequential_5\"\n",
            "_________________________________________________________________\n",
            "Layer (type)                 Output Shape              Param #   \n",
            "=================================================================\n",
            "sequential_3 (Sequential)    (None, 131072)            35202816  \n",
            "_________________________________________________________________\n",
            "sequential_4 (Sequential)    (None, 6, 1999)           69461967  \n",
            "=================================================================\n",
            "Total params: 104,664,783\n",
            "Trainable params: 104,664,783\n",
            "Non-trainable params: 0\n",
            "_________________________________________________________________\n"
          ],
          "name": "stdout"
        }
      ]
    },
    {
      "cell_type": "code",
      "metadata": {
        "id": "mFHn5jG9aKUw",
        "colab_type": "code",
        "colab": {}
      },
      "source": [
        "AutoEncoder.fit(X, X, batch_size = 128, epochs = 140)"
      ],
      "execution_count": null,
      "outputs": []
    },
    {
      "cell_type": "code",
      "metadata": {
        "id": "2G-4kvEInmob",
        "colab_type": "code",
        "colab": {}
      },
      "source": [
        "#saving model\n",
        "AutoEncoder.save('/content/drive/My Drive/Colab_Notebooks/NLP_Project/model5.h5')"
      ],
      "execution_count": null,
      "outputs": []
    },
    {
      "cell_type": "code",
      "metadata": {
        "id": "Q1w1KP601Jxw",
        "colab_type": "code",
        "colab": {}
      },
      "source": [
        "#loading saved model\n",
        "AutoEncoder = keras.models.load_model('/content/drive/My Drive/Colab_Notebooks/NLP_Project/model5.h5')\n",
        "encoder, decoder = AutoEncoder.layers"
      ],
      "execution_count": null,
      "outputs": []
    },
    {
      "cell_type": "code",
      "metadata": {
        "id": "vKoQ9hsWenTe",
        "colab_type": "code",
        "colab": {}
      },
      "source": [
        "def build_text(vec):\n",
        "  pred = []\n",
        "  for word in vec:\n",
        "    pos = np.argmax(word)\n",
        "    if pos == 0:\n",
        "      continue\n",
        "    pred.append(tokenizer.sequences_to_texts([[pos]])[0])\n",
        "  return pred"
      ],
      "execution_count": null,
      "outputs": []
    },
    {
      "cell_type": "markdown",
      "metadata": {
        "id": "RFrodE1QMXh2",
        "colab_type": "text"
      },
      "source": [
        "Testing autoencoder:"
      ]
    },
    {
      "cell_type": "code",
      "metadata": {
        "id": "0y1w4o2hNQPr",
        "colab_type": "code",
        "colab": {
          "base_uri": "https://localhost:8080/",
          "height": 34
        },
        "outputId": "cf1a0f75-e391-4f67-c933-7a5e446a92de"
      },
      "source": [
        "Xc = X[0].reshape((1, X[0].shape[0], X[0].shape[1]))\n",
        "print(AutoEncoder.predict(Xc)[0].shape)"
      ],
      "execution_count": null,
      "outputs": [
        {
          "output_type": "stream",
          "text": [
            "(6, 1999)\n"
          ],
          "name": "stdout"
        }
      ]
    },
    {
      "cell_type": "code",
      "metadata": {
        "id": "wpimQvTQ1mpr",
        "colab_type": "code",
        "colab": {
          "base_uri": "https://localhost:8080/",
          "height": 50
        },
        "outputId": "78ec4862-04a3-43e3-ffeb-f52ee865dd18"
      },
      "source": [
        "ind = 9877\n",
        "pred = AutoEncoder.predict(X[ind].reshape((1, X[ind].shape[0], X[ind].shape[1])))[0]\n",
        "print(build_text(pred))\n",
        "print(build_text(X[ind]))"
      ],
      "execution_count": null,
      "outputs": [
        {
          "output_type": "stream",
          "text": [
            "['because', 'a', 'woman', \"'\", 's', '.']\n",
            "['because', 'a', 'woman', \"'\", 's', '.']\n"
          ],
          "name": "stdout"
        }
      ]
    },
    {
      "cell_type": "code",
      "metadata": {
        "id": "-G7ZXs2XHw_-",
        "colab_type": "code",
        "colab": {
          "base_uri": "https://localhost:8080/",
          "height": 34
        },
        "outputId": "5e492d3b-b3df-4834-ff50-8845f2978b49"
      },
      "source": [
        "latent_vec = encoder.predict(X[ind].reshape((1, X[ind].shape[0], X[ind].shape[1])))\n",
        "pred = decoder.predict(latent_vec)[0]\n",
        "print(build_text(pred))\n",
        "#print(latent_vec.shape)"
      ],
      "execution_count": null,
      "outputs": [
        {
          "output_type": "stream",
          "text": [
            "['because', 'a', 'woman', \"'\", 's', '.']\n"
          ],
          "name": "stdout"
        }
      ]
    },
    {
      "cell_type": "markdown",
      "metadata": {
        "id": "mIDEP1WB-tOV",
        "colab_type": "text"
      },
      "source": [
        "## GAN"
      ]
    },
    {
      "cell_type": "code",
      "metadata": {
        "id": "4jeAOtYu-4Nj",
        "colab_type": "code",
        "colab": {}
      },
      "source": [
        "noise_size = 20\n",
        "generator = keras.models.Sequential(\n",
        "    [\n",
        "     keras.layers.Dense(512, activation = \"selu\", input_shape = [noise_size]),\n",
        "     keras.layers.Dense(256, activation = \"selu\"),\n",
        "     keras.layers.Dense(256, activation = \"selu\"),\n",
        "     keras.layers.Dense(256, activation = \"selu\"),\n",
        "     keras.layers.Dense(compact_size, activation = \"selu\"),\n",
        "    ]\n",
        ")\n",
        "discriminator = keras.models.Sequential(\n",
        "    [\n",
        "     keras.layers.Dense(512, activation = \"selu\", input_shape = [compact_size]),\n",
        "     keras.layers.Dense(256, activation = \"selu\"),\n",
        "     keras.layers.Dense(256, activation = \"selu\"),\n",
        "     keras.layers.Dense(256, activation = \"selu\"),\n",
        "     keras.layers.Dense(1, activation = \"sigmoid\"),\n",
        "    ]\n",
        ")\n",
        "gan = keras.models.Sequential([generator, discriminator])"
      ],
      "execution_count": null,
      "outputs": []
    },
    {
      "cell_type": "code",
      "metadata": {
        "id": "WrjJ_4_OfW3L",
        "colab_type": "code",
        "colab": {}
      },
      "source": [
        "optimizer = keras.optimizers.Adam(learning_rate = 0.0007)\n",
        "discriminator.compile(optimizer = optimizer, loss = \"binary_crossentropy\")\n",
        "discriminator.trainable = False\n",
        "gan.compile(optimizer = optimizer, loss = \"binary_crossentropy\")"
      ],
      "execution_count": null,
      "outputs": []
    },
    {
      "cell_type": "code",
      "metadata": {
        "id": "5tNkmgSj6Deb",
        "colab_type": "code",
        "colab": {}
      },
      "source": [
        "batch_size = 256\n",
        "def train_gan(num_epochs):\n",
        "  generator, discriminator = gan.layers\n",
        "  discriminator.trainable = False\n",
        "  for epoch in range(num_epochs):\n",
        "    print(f\"Epoch {epoch + 1} / {num_epochs}\")\n",
        "    for i in range(0, X.shape[0] - batch_size, batch_size):\n",
        "      #discrminator training\n",
        "      noise = tf.random.normal(shape = [batch_size, noise_size])\n",
        "      gen_sentences = generator(noise)\n",
        "      encoded_input = encoder(X[i : i + batch_size])\n",
        "      X_curr = np.concatenate((encoded_input, gen_sentences), axis = 0)\n",
        "      Y1 = np.concatenate((np.ones((batch_size, 1)), np.zeros((batch_size, 1))))\n",
        "      discriminator.trainable = True\n",
        "      discriminator.train_on_batch(X_curr, Y1)\n",
        "      #generator training\n",
        "      noise = tf.random.normal(shape = [batch_size, noise_size])\n",
        "      Y2 = np.ones((batch_size, 1))\n",
        "      discriminator.trainable = False\n",
        "      gan.train_on_batch(noise, Y2)"
      ],
      "execution_count": null,
      "outputs": []
    },
    {
      "cell_type": "code",
      "metadata": {
        "id": "eDa9-n8rks32",
        "colab_type": "code",
        "colab": {}
      },
      "source": [
        "train_gan(90)"
      ],
      "execution_count": null,
      "outputs": []
    },
    {
      "cell_type": "markdown",
      "metadata": {
        "id": "9NgYl6syPEil",
        "colab_type": "text"
      },
      "source": [
        "Testing GAN:"
      ]
    },
    {
      "cell_type": "code",
      "metadata": {
        "id": "hKhgPBXlKe47",
        "colab_type": "code",
        "colab": {
          "base_uri": "https://localhost:8080/",
          "height": 34
        },
        "outputId": "7646521c-3b9f-4d41-8b1d-dd6f3ccf2e32"
      },
      "source": [
        "noise = tf.random.normal(shape = [1, noise_size])\n",
        "gen_vec = generator(noise)\n",
        "encoded_vec = decoder(gen_vec)\n",
        "build_text(encoded_vec[0])"
      ],
      "execution_count": null,
      "outputs": [
        {
          "output_type": "execute_result",
          "data": {
            "text/plain": [
              "['still', 'to', 'say', 'other', 'about', 'her']"
            ]
          },
          "metadata": {
            "tags": []
          },
          "execution_count": 57
        }
      ]
    }
  ]
}